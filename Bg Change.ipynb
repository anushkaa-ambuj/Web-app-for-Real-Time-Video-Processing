{
 "cells": [
  {
   "cell_type": "code",
   "execution_count": 1,
   "id": "6a2289cb",
   "metadata": {},
   "outputs": [],
   "source": [
    "#Importing Libraries\n",
    "import cv2\n",
    "import cvzone\n",
    "from cvzone.SelfiSegmentationModule import SelfiSegmentation\n",
    "import os"
   ]
  },
  {
   "cell_type": "code",
   "execution_count": 17,
   "id": "50e98ee8",
   "metadata": {},
   "outputs": [],
   "source": [
    "#Webcam Access\n",
    "cap = cv2.VideoCapture(0)\n",
    "cap.set(3,640) #width=3 & pixels=640\n",
    "cap.set(4,480) #height=4 & pixels=480\n",
    "\n",
    "imgBg = cv2.imread(\"bg-4.jpg\")"
   ]
  },
  {
   "cell_type": "code",
   "execution_count": 4,
   "id": "14889f02",
   "metadata": {},
   "outputs": [
    {
     "data": {
      "text/plain": [
       "'model no. 0 is general version---slower\\nmodel no. 1 is landscape--default--faster'"
      ]
     },
     "execution_count": 4,
     "metadata": {},
     "output_type": "execute_result"
    }
   ],
   "source": [
    "#Building the segmentor to separate the person & bg\n",
    "segmentor = SelfiSegmentation()\n",
    "'''model no. 0 is general version---slower\n",
    "model no. 1 is landscape--default--faster'''"
   ]
  },
  {
   "cell_type": "code",
   "execution_count": 14,
   "id": "b776dfd5",
   "metadata": {},
   "outputs": [],
   "source": [
    "#FrameRate\n",
    "fpsReader = cvzone.FPS()"
   ]
  },
  {
   "cell_type": "code",
   "execution_count": null,
   "id": "3a49c3c1",
   "metadata": {},
   "outputs": [],
   "source": [
    "#To Display Input & Output \n",
    "while True:\n",
    "    success,img = cap.read()\n",
    "    imgOut = segmentor.removeBG(img,(255,0,0), threshold=0.78)\n",
    "    cv2.imshow(\"Input\",img)\n",
    "    cv2.imshow(\"Output\",imgOut)\n",
    "    cv2.waitKey(1)"
   ]
  },
  {
   "cell_type": "code",
   "execution_count": 16,
   "id": "efbc4224",
   "metadata": {},
   "outputs": [
    {
     "ename": "NameError",
     "evalue": "name 'imgBg' is not defined",
     "output_type": "error",
     "traceback": [
      "\u001b[1;31m---------------------------------------------------------------------------\u001b[0m",
      "\u001b[1;31mNameError\u001b[0m                                 Traceback (most recent call last)",
      "\u001b[1;32m<ipython-input-16-40e895da93ae>\u001b[0m in \u001b[0;36m<module>\u001b[1;34m\u001b[0m\n\u001b[0;32m      2\u001b[0m \u001b[1;32mwhile\u001b[0m \u001b[1;32mTrue\u001b[0m\u001b[1;33m:\u001b[0m\u001b[1;33m\u001b[0m\u001b[1;33m\u001b[0m\u001b[0m\n\u001b[0;32m      3\u001b[0m     \u001b[0msuccess\u001b[0m\u001b[1;33m,\u001b[0m\u001b[0mimg\u001b[0m \u001b[1;33m=\u001b[0m \u001b[0mcap\u001b[0m\u001b[1;33m.\u001b[0m\u001b[0mread\u001b[0m\u001b[1;33m(\u001b[0m\u001b[1;33m)\u001b[0m\u001b[1;33m\u001b[0m\u001b[1;33m\u001b[0m\u001b[0m\n\u001b[1;32m----> 4\u001b[1;33m     \u001b[0mimgOut\u001b[0m \u001b[1;33m=\u001b[0m \u001b[0msegmentor\u001b[0m\u001b[1;33m.\u001b[0m\u001b[0mremoveBG\u001b[0m\u001b[1;33m(\u001b[0m\u001b[0mimg\u001b[0m\u001b[1;33m,\u001b[0m\u001b[0mimgBg\u001b[0m\u001b[1;33m,\u001b[0m \u001b[0mthreshold\u001b[0m\u001b[1;33m=\u001b[0m\u001b[1;36m0.78\u001b[0m\u001b[1;33m)\u001b[0m\u001b[1;33m\u001b[0m\u001b[1;33m\u001b[0m\u001b[0m\n\u001b[0m\u001b[0;32m      5\u001b[0m     \u001b[0mimgStacked\u001b[0m \u001b[1;33m=\u001b[0m \u001b[0mcvzone\u001b[0m\u001b[1;33m.\u001b[0m\u001b[0mstackImages\u001b[0m\u001b[1;33m(\u001b[0m\u001b[1;33m[\u001b[0m\u001b[0mimg\u001b[0m\u001b[1;33m,\u001b[0m\u001b[0mimgOut\u001b[0m\u001b[1;33m]\u001b[0m\u001b[1;33m,\u001b[0m\u001b[1;36m2\u001b[0m\u001b[1;33m,\u001b[0m\u001b[1;36m1\u001b[0m\u001b[1;33m)\u001b[0m \u001b[1;31m#Here, columns=2 & scale=1\u001b[0m\u001b[1;33m\u001b[0m\u001b[1;33m\u001b[0m\u001b[0m\n\u001b[0;32m      6\u001b[0m     \u001b[0mcv2\u001b[0m\u001b[1;33m.\u001b[0m\u001b[0mimshow\u001b[0m\u001b[1;33m(\u001b[0m\u001b[1;34m\"Input\"\u001b[0m\u001b[1;33m,\u001b[0m\u001b[0mimgStacked\u001b[0m\u001b[1;33m)\u001b[0m\u001b[1;33m\u001b[0m\u001b[1;33m\u001b[0m\u001b[0m\n",
      "\u001b[1;31mNameError\u001b[0m: name 'imgBg' is not defined"
     ]
    }
   ],
   "source": [
    "#To Display Input & Output side-by-side\n",
    "while True:\n",
    "    success,img = cap.read()\n",
    "    imgOut = segmentor.removeBG(img,imgBg, threshold=0.78)\n",
    "    imgStacked = cvzone.stackImages([img,imgOut],2,1) #Here, columns=2 & scale=1\n",
    "    cv2.imshow(\"Input\",imgStacked)\n",
    "    fps, imgStacked = fpsReader.update(imgStacked)\n",
    "    cv2.waitKey(1)"
   ]
  },
  {
   "cell_type": "code",
   "execution_count": null,
   "id": "702ab359",
   "metadata": {},
   "outputs": [],
   "source": []
  }
 ],
 "metadata": {
  "kernelspec": {
   "display_name": "Python 3",
   "language": "python",
   "name": "python3"
  },
  "language_info": {
   "codemirror_mode": {
    "name": "ipython",
    "version": 3
   },
   "file_extension": ".py",
   "mimetype": "text/x-python",
   "name": "python",
   "nbconvert_exporter": "python",
   "pygments_lexer": "ipython3",
   "version": "3.8.8"
  }
 },
 "nbformat": 4,
 "nbformat_minor": 5
}
